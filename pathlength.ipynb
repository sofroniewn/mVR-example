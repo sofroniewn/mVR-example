{
 "cells": [
  {
   "cell_type": "code",
   "execution_count": 44,
   "metadata": {
    "collapsed": true
   },
   "outputs": [],
   "source": [
    "import math\n",
    "from scipy import integrate\n",
    "from scipy import interpolate\n",
    "import numpy as np\n",
    "import matplotlib.pyplot as plt\n",
    "import os\n",
    "import pandas as pd\n",
    "import scipy.io as sio\n",
    "from glob import glob\n",
    "import json"
   ]
  },
  {
   "cell_type": "code",
   "execution_count": 45,
   "metadata": {
    "collapsed": true
   },
   "outputs": [],
   "source": [
    "%matplotlib inline"
   ]
  },
  {
   "cell_type": "code",
   "execution_count": 68,
   "metadata": {
    "collapsed": true
   },
   "outputs": [],
   "source": [
    "x = [10,10,10,10,20,30,40,50,60,60,60]\n",
    "y = [0,10,20,30,30,30,30,30,40,50,60]"
   ]
  },
  {
   "cell_type": "code",
   "execution_count": 70,
   "metadata": {
    "collapsed": false
   },
   "outputs": [],
   "source": [
    "def pathlength(x,y,degree=3)  :\n",
    "    '''\n",
    "    x and y arrays must have the same dimensions\n",
    "    Implements arclength formula to estimate the total length of a fitted spline (cubic default)\n",
    "    \n",
    "    Returns: x(t) spline, y(t) spline, path length\n",
    "    '''\n",
    "    t = range(len(x)) #time series\n",
    "    fx = interpolate.UnivariateSpline(t, x, k=degree)\n",
    "    fy = interpolate.UnivariateSpline(t, y, k=degree)\n",
    "    print len(x),len(fx(t))\n",
    "    x_coef = fx.get_coeffs()[~np.isnan(fx.get_coeffs())]\n",
    "    y_coef = fy.get_coeffs()[~np.isnan(fy.get_coeffs())]\n",
    "    \n",
    "    dxdt = fx.derivative()\n",
    "    dydt = fy.derivative()\n",
    "\n",
    "    dx_array = [dxdt(xi) for xi in t]\n",
    "    dy_array = [dydt(yi) for yi in t]\n",
    "\n",
    "    dx2 = np.square(dx_array)\n",
    "    dy2 = np.square(dy_array)\n",
    "\n",
    "    hyp2 = np.add(dx2,dy2)\n",
    "    integrand = np.sqrt(hyp2)\n",
    "\n",
    "    length = sum(integrand)\n",
    "\n",
    "    \n",
    "    return fx, fy,length "
   ]
  },
  {
   "cell_type": "code",
   "execution_count": 71,
   "metadata": {
    "collapsed": false
   },
   "outputs": [
    {
     "name": "stdout",
     "output_type": "stream",
     "text": [
      "11 11\n",
      "110.556269126\n"
     ]
    }
   ],
   "source": [
    "fns = pathlength(x,y)\n",
    "print fns[2]"
   ]
  },
  {
   "cell_type": "code",
   "execution_count": 75,
   "metadata": {
    "collapsed": false
   },
   "outputs": [
    {
     "data": {
      "text/plain": [
       "(0, 70)"
      ]
     },
     "execution_count": 75,
     "metadata": {},
     "output_type": "execute_result"
    },
    {
     "data": {
      "image/png": "[encoded data removed]",
      "text/plain": [
       "<matplotlib.figure.Figure at 0x10b93f4d0>"
      ]
     },
     "metadata": {},
     "output_type": "display_data"
    },
    {
     "data": {
      "image/png": "[encoded data removed]",
      "text/plain": [
       "<matplotlib.figure.Figure at 0x10bea1b90>"
      ]
     },
     "metadata": {},
     "output_type": "display_data"
    }
   ],
   "source": [
    "plt.figure()\n",
    "plt.plot(x)        \n",
    "plt.plot(fns[0](range(len(x))))\n",
    "plt.title('X(t)')\n",
    "plt.xlim(0,max(x)+10)\n",
    "plt.ylim(0,max(y)+10)\n",
    "\n",
    "plt.figure()\n",
    "plt.plot(y)\n",
    "plt.plot(fns[1](range(len(y))))\n",
    "plt.title('Y(t)')\n",
    "plt.xlim(0,max(x)+10)\n",
    "plt.ylim(0,max(y)+10)\n",
    "    "
   ]
  },
  {
   "cell_type": "code",
   "execution_count": null,
   "metadata": {
    "collapsed": true
   },
   "outputs": [],
   "source": []
  },
  {
   "cell_type": "code",
   "execution_count": null,
   "metadata": {
    "collapsed": true
   },
   "outputs": [],
   "source": []
  }
 ],
 "metadata": {
  "kernelspec": {
   "display_name": "Python 2",
   "language": "python",
   "name": "python2"
  },
  "language_info": {
   "codemirror_mode": {
    "name": "ipython",
    "version": 2
   },
   "file_extension": ".py",
   "mimetype": "text/x-python",
   "name": "python",
   "nbconvert_exporter": "python",
   "pygments_lexer": "ipython2",
   "version": "2.7.12"
  }
 },
 "nbformat": 4,
 "nbformat_minor": 0
}
